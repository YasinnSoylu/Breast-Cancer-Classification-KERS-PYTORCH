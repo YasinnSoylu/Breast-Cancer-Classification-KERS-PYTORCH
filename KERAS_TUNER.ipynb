{
  "nbformat": 4,
  "nbformat_minor": 0,
  "metadata": {
    "colab": {
      "provenance": [],
      "authorship_tag": "ABX9TyPABz2xnZDP0DQ3uk8qg4NO",
      "include_colab_link": true
    },
    "kernelspec": {
      "name": "python3",
      "display_name": "Python 3"
    },
    "language_info": {
      "name": "python"
    },
    "accelerator": "GPU",
    "gpuClass": "standard"
  },
  "cells": [
    {
      "cell_type": "markdown",
      "metadata": {
        "id": "view-in-github",
        "colab_type": "text"
      },
      "source": [
        "<a href=\"https://colab.research.google.com/github/YasinnSoylu/Breast-Cancer-Classification-KERS-PYTORCH/blob/main/KERAS_TUNER.ipynb\" target=\"_parent\"><img src=\"https://colab.research.google.com/assets/colab-badge.svg\" alt=\"Open In Colab\"/></a>"
      ]
    },
    {
      "cell_type": "code",
      "source": [
        "! pip install -q kaggle\n",
        "! mkdir ~/.kaggle\n",
        "! cp kaggle.json ~/.kaggle/\n",
        "! chmod 600 ~/.kaggle/kaggle.json\n",
        "!kaggle datasets download -d paultimothymooney/breast-histopathology-images\n",
        "!unzip breast-histopathology-images.zip\n"
      ],
      "metadata": {
        "id": "IfvVUVWfVkkl"
      },
      "execution_count": 12,
      "outputs": []
    },
    {
      "cell_type": "code",
      "source": [
        "#import neccessary Libraries and modules\n",
        "import pandas as pd\n",
        "import numpy as np\n",
        "import os\n",
        "from glob import glob\n",
        "import random\n",
        "import matplotlib.pylab as plt\n",
        "\n",
        "from sklearn.model_selection import train_test_split\n",
        "import tensorflow as tf\n",
        "import keras\n",
        "import keras.backend as K\n",
        "\n",
        "from keras.utils.np_utils import to_categorical\n",
        "from keras.models import Sequential\n",
        "from keras.preprocessing.image import ImageDataGenerator\n",
        "from keras.callbacks import ModelCheckpoint\n",
        "from tensorflow.keras.optimizers import SGD, RMSprop, Adam, Adagrad, Adadelta\n",
        "from keras.layers import Dense, Dropout, Activation, Flatten, BatchNormalization, Conv2D, MaxPool2D, MaxPooling2D\n",
        "from tensorflow.keras.callbacks import EarlyStopping\n",
        "\n",
        "%matplotlib inline\n",
        "\n",
        "import warnings\n",
        "warnings.filterwarnings('ignore')"
      ],
      "metadata": {
        "id": "0t6iAtllWplX"
      },
      "execution_count": 32,
      "outputs": []
    },
    {
      "cell_type": "code",
      "source": [
        "imagePatches = glob('/content/IDC_regular_ps50_idx5/**/*.png', recursive=True)\n",
        "for filename in imagePatches[0:10]:\n",
        "    print(filename)"
      ],
      "metadata": {
        "colab": {
          "base_uri": "https://localhost:8080/"
        },
        "id": "AjjTi3fyX0G9",
        "outputId": "f2050432-b9f1-4802-9ba3-e320f3414ab0"
      },
      "execution_count": 3,
      "outputs": [
        {
          "output_type": "stream",
          "name": "stdout",
          "text": [
            "/content/IDC_regular_ps50_idx5/8984/1/8984_idx5_x2251_y1751_class1.png\n",
            "/content/IDC_regular_ps50_idx5/8984/1/8984_idx5_x2651_y1151_class1.png\n",
            "/content/IDC_regular_ps50_idx5/8984/1/8984_idx5_x2801_y1201_class1.png\n",
            "/content/IDC_regular_ps50_idx5/8984/1/8984_idx5_x2801_y1301_class1.png\n",
            "/content/IDC_regular_ps50_idx5/8984/1/8984_idx5_x2351_y1251_class1.png\n",
            "/content/IDC_regular_ps50_idx5/8984/1/8984_idx5_x1901_y1401_class1.png\n",
            "/content/IDC_regular_ps50_idx5/8984/1/8984_idx5_x1951_y1401_class1.png\n",
            "/content/IDC_regular_ps50_idx5/8984/1/8984_idx5_x2051_y1801_class1.png\n",
            "/content/IDC_regular_ps50_idx5/8984/1/8984_idx5_x1901_y1501_class1.png\n",
            "/content/IDC_regular_ps50_idx5/8984/1/8984_idx5_x2351_y1201_class1.png\n"
          ]
        }
      ]
    },
    {
      "cell_type": "code",
      "source": [
        "# Two arrays holding images by class type\n",
        "\n",
        "class0 = [] # 0 = no cancer\n",
        "class1 = [] # 1 = cancer\n",
        "\n",
        "for filename in imagePatches:\n",
        "    if filename.endswith(\"class0.png\"):\n",
        "         class0.append(filename)\n",
        "    else:\n",
        "        class1.append(filename)"
      ],
      "metadata": {
        "id": "MonUJds2X5-5"
      },
      "execution_count": 4,
      "outputs": []
    },
    {
      "cell_type": "code",
      "source": [
        "print(\"class 0 :\",len(class0))\n",
        "print(\"class 1 :\",len(class1))\n"
      ],
      "metadata": {
        "colab": {
          "base_uri": "https://localhost:8080/"
        },
        "id": "5tgmnbn9YltE",
        "outputId": "ca7c2000-0659-49ad-e6b4-a2e72edee04d"
      },
      "execution_count": 5,
      "outputs": [
        {
          "output_type": "stream",
          "name": "stdout",
          "text": [
            "class 0 : 198738\n",
            "class 1 : 78786\n"
          ]
        }
      ]
    },
    {
      "cell_type": "code",
      "source": [
        "sampled_class0 = random.sample(class0, 10000)\n",
        "sampled_class1 = random.sample(class1, 10000)\n",
        "#len(sampled_class0)"
      ],
      "metadata": {
        "id": "I9zW8x15Ym8i"
      },
      "execution_count": 6,
      "outputs": []
    },
    {
      "cell_type": "code",
      "source": [
        "from matplotlib.image import imread\n",
        "import cv2\n",
        "\n",
        "def get_image_arrays(data, label):\n",
        "    img_arrays = []\n",
        "    for i in data:\n",
        "        if i.endswith('.png'):\n",
        "            img = cv2.imread(i ,cv2.IMREAD_COLOR)\n",
        "            img_sized = cv2.resize(img, (128, 128), interpolation=cv2.INTER_LINEAR)\n",
        "            img_arrays.append([img_sized, label])\n",
        "    return img_arrays"
      ],
      "metadata": {
        "id": "UiMlIShEZNzl"
      },
      "execution_count": 7,
      "outputs": []
    },
    {
      "cell_type": "code",
      "source": [
        "class0_array = get_image_arrays(sampled_class0, 0)\n",
        "class1_array = get_image_arrays(sampled_class1, 1)"
      ],
      "metadata": {
        "id": "Yw6AE__ZZQ_p"
      },
      "execution_count": 8,
      "outputs": []
    },
    {
      "cell_type": "code",
      "source": [
        "def show_img(files):\n",
        "    plt.figure(figsize= (10,10))\n",
        "    ind = np.random.randint(0, len(files), 25)\n",
        "    i=0\n",
        "    for loc in ind:\n",
        "        plt.subplot(5,5,i+1)\n",
        "        sample = load_img(files[loc], target_size=(150,150))\n",
        "        sample = img_to_array(sample)\n",
        "        plt.axis(\"off\")\n",
        "        plt.imshow(sample.astype(\"uint8\"))\n",
        "        i+=1"
      ],
      "metadata": {
        "id": "FWWas2sxZcFz"
      },
      "execution_count": 9,
      "outputs": []
    },
    {
      "cell_type": "code",
      "source": [
        "combined_data = np.concatenate((class0_array, class1_array))\n",
        "random.seed(42)\n",
        "random.shuffle(combined_data)"
      ],
      "metadata": {
        "id": "vbJIK7yRZe2N"
      },
      "execution_count": 10,
      "outputs": []
    },
    {
      "cell_type": "code",
      "source": [
        "X = []\n",
        "y = []\n",
        "\n",
        "for features,label in combined_data:\n",
        "    X.append(features)\n",
        "    y.append(label)"
      ],
      "metadata": {
        "id": "1_RAKM5jZg53"
      },
      "execution_count": 11,
      "outputs": []
    },
    {
      "cell_type": "code",
      "source": [
        "X = np.array(X).reshape(-1, 128, 128,3)"
      ],
      "metadata": {
        "id": "6Bwk04wqZi0X"
      },
      "execution_count": 12,
      "outputs": []
    },
    {
      "cell_type": "code",
      "source": [
        "X_train, X_test, y_train, y_test = train_test_split(X, y, test_size=0.25, random_state=42)\n",
        "y_train = to_categorical(y_train)\n",
        "y_test = to_categorical(y_test)\n",
        "print(X_train.shape, X_test.shape, y_train.shape, y_test.shape)"
      ],
      "metadata": {
        "colab": {
          "base_uri": "https://localhost:8080/"
        },
        "id": "0S2xI1j1Zl83",
        "outputId": "6160a062-6b3c-446c-dd37-a656e0871ec8"
      },
      "execution_count": 13,
      "outputs": [
        {
          "output_type": "stream",
          "name": "stdout",
          "text": [
            "(15000, 128, 128, 3) (5000, 128, 128, 3) (15000, 2) (5000, 2)\n"
          ]
        }
      ]
    },
    {
      "cell_type": "code",
      "source": [
        "def build_model(hp):  \n",
        "  model = keras.Sequential([\n",
        "    keras.layers.Conv2D(\n",
        "        filters=hp.Int('conv_1_filter', min_value=32, max_value=128, step=16),\n",
        "        kernel_size=hp.Choice('conv_1_kernel', values = [3,5]),\n",
        "        activation='relu',\n",
        "        input_shape=(128,128,3)\n",
        "    ),\n",
        "    keras.layers.Conv2D(\n",
        "        filters=hp.Int('conv_2_filter', min_value=32, max_value=64, step=16),\n",
        "        kernel_size=hp.Choice('conv_2_kernel', values = [3,5]),\n",
        "        activation='relu'\n",
        "    ),\n",
        "    keras.layers.Flatten(),\n",
        "    keras.layers.Dense(\n",
        "        units=hp.Int('dense_1_units', min_value=32, max_value=128, step=16),\n",
        "        activation='relu'\n",
        "    ),\n",
        "    keras.layers.Dense(2, activation='softmax')\n",
        "  ])\n",
        "  \n",
        "  model.compile(optimizer=keras.optimizers.Adam(hp.Choice('learning_rate', values=[1e-2, 1e-3])),\n",
        "              loss='binary_crossentropy',\n",
        "              metrics=['accuracy'])\n",
        "  \n",
        "  return model"
      ],
      "metadata": {
        "id": "IXcRxZ49ipix"
      },
      "execution_count": 48,
      "outputs": []
    },
    {
      "cell_type": "code",
      "source": [
        "from kerastuner import RandomSearch\n",
        "from kerastuner.engine.hyperparameters import HyperParameters"
      ],
      "metadata": {
        "id": "wgqBX6tdipli"
      },
      "execution_count": 49,
      "outputs": []
    },
    {
      "cell_type": "code",
      "source": [
        "tuner_search=RandomSearch(build_model,objective='val_accuracy',max_trials=5,directory='output',project_name=\"cancer\")"
      ],
      "metadata": {
        "id": "2b78K9m0ipoX"
      },
      "execution_count": 50,
      "outputs": []
    },
    {
      "cell_type": "code",
      "source": [
        "tuner_search.search(X_train,y_train,epochs=5,validation_split=0.1)\n"
      ],
      "metadata": {
        "colab": {
          "base_uri": "https://localhost:8080/"
        },
        "id": "2QnAq8_Iipq_",
        "outputId": "345031b4-77b5-431e-e7aa-5714316654d3"
      },
      "execution_count": 51,
      "outputs": [
        {
          "output_type": "stream",
          "name": "stdout",
          "text": [
            "Trial 5 Complete [00h 02m 23s]\n",
            "val_accuracy: 0.846666693687439\n",
            "\n",
            "Best val_accuracy So Far: 0.846666693687439\n",
            "Total elapsed time: 00h 14m 17s\n"
          ]
        }
      ]
    },
    {
      "cell_type": "code",
      "source": [
        "model=tuner_search.get_best_models(num_models=1)[0]\n",
        "#summary of best model\n",
        "model.summary()"
      ],
      "metadata": {
        "colab": {
          "base_uri": "https://localhost:8080/"
        },
        "id": "o03UEnJsipte",
        "outputId": "c5cd3941-711d-4c77-a459-05b4130d910a"
      },
      "execution_count": 52,
      "outputs": [
        {
          "output_type": "stream",
          "name": "stdout",
          "text": [
            "Model: \"sequential\"\n",
            "_________________________________________________________________\n",
            " Layer (type)                Output Shape              Param #   \n",
            "=================================================================\n",
            " conv2d (Conv2D)             (None, 126, 126, 64)      1792      \n",
            "                                                                 \n",
            " conv2d_1 (Conv2D)           (None, 124, 124, 32)      18464     \n",
            "                                                                 \n",
            " flatten (Flatten)           (None, 492032)            0         \n",
            "                                                                 \n",
            " dense (Dense)               (None, 96)                47235168  \n",
            "                                                                 \n",
            " dense_1 (Dense)             (None, 2)                 194       \n",
            "                                                                 \n",
            "=================================================================\n",
            "Total params: 47,255,618\n",
            "Trainable params: 47,255,618\n",
            "Non-trainable params: 0\n",
            "_________________________________________________________________\n"
          ]
        }
      ]
    },
    {
      "cell_type": "code",
      "source": [
        "model.fit(X_train,y_train,\n",
        "          epochs=10,\n",
        "         validation_data=(X_test, y_test))"
      ],
      "metadata": {
        "colab": {
          "base_uri": "https://localhost:8080/"
        },
        "id": "lg3ofbPGipwc",
        "outputId": "3151db11-ec10-49ff-c7c1-37fac94f44ae"
      },
      "execution_count": 55,
      "outputs": [
        {
          "output_type": "stream",
          "name": "stdout",
          "text": [
            "Epoch 1/10\n",
            "469/469 [==============================] - 22s 46ms/step - loss: 0.4330 - accuracy: 0.8430 - val_loss: 0.4326 - val_accuracy: 0.8426\n",
            "Epoch 2/10\n",
            "469/469 [==============================] - 20s 43ms/step - loss: 0.4354 - accuracy: 0.8430 - val_loss: 0.4355 - val_accuracy: 0.8424\n",
            "Epoch 3/10\n",
            "469/469 [==============================] - 21s 45ms/step - loss: 0.4451 - accuracy: 0.8430 - val_loss: 0.4357 - val_accuracy: 0.8424\n",
            "Epoch 4/10\n",
            "469/469 [==============================] - 21s 45ms/step - loss: 0.4349 - accuracy: 0.8429 - val_loss: 0.4357 - val_accuracy: 0.8424\n",
            "Epoch 5/10\n",
            "469/469 [==============================] - 21s 44ms/step - loss: 0.4335 - accuracy: 0.8429 - val_loss: 0.4314 - val_accuracy: 0.8428\n",
            "Epoch 6/10\n",
            "469/469 [==============================] - 21s 44ms/step - loss: 0.4351 - accuracy: 0.8429 - val_loss: 0.4357 - val_accuracy: 0.8424\n",
            "Epoch 7/10\n",
            "469/469 [==============================] - 22s 46ms/step - loss: 0.4350 - accuracy: 0.8429 - val_loss: 0.4357 - val_accuracy: 0.8424\n",
            "Epoch 8/10\n",
            "469/469 [==============================] - 21s 44ms/step - loss: 0.4350 - accuracy: 0.8429 - val_loss: 0.4359 - val_accuracy: 0.8424\n",
            "Epoch 9/10\n",
            "469/469 [==============================] - 21s 44ms/step - loss: 0.4350 - accuracy: 0.8429 - val_loss: 0.4357 - val_accuracy: 0.8424\n",
            "Epoch 10/10\n",
            "469/469 [==============================] - 21s 46ms/step - loss: 0.4350 - accuracy: 0.8429 - val_loss: 0.4357 - val_accuracy: 0.8424\n"
          ]
        },
        {
          "output_type": "execute_result",
          "data": {
            "text/plain": [
              "<keras.callbacks.History at 0x7f1c9c1c93d0>"
            ]
          },
          "metadata": {},
          "execution_count": 55
        }
      ]
    },
    {
      "cell_type": "code",
      "source": [
        "plt.plot(history.history['accuracy'])\n",
        "plt.plot(history.history['val_accuracy'])\n",
        "plt.title('Model accuracy')\n",
        "plt.ylabel('Accuracy')\n",
        "plt.xlabel('Epoch')\n",
        "plt.legend(['Train', 'Test'], loc='upper left')\n",
        "plt.show()\n",
        "\n",
        "# Plot loss values vs epoch\n",
        "plt.plot(history.history['loss'])\n",
        "plt.plot(history.history['val_loss'])\n",
        "plt.title('Model loss')\n",
        "plt.ylabel('Loss')\n",
        "plt.xlabel('Epoch')\n",
        "plt.legend(['Train', 'Test'], loc='upper left')\n",
        "plt.show()"
      ],
      "metadata": {
        "colab": {
          "base_uri": "https://localhost:8080/",
          "height": 573
        },
        "id": "BFPk13b1ipyv",
        "outputId": "c38f4a4c-7491-4979-cfc0-ca8af1037309"
      },
      "execution_count": 56,
      "outputs": [
        {
          "output_type": "display_data",
          "data": {
            "text/plain": [
              "<Figure size 432x288 with 1 Axes>"
            ],
            "image/png": "[encoded data removed]"
          },
          "metadata": {
            "needs_background": "light"
          }
        },
        {
          "output_type": "display_data",
          "data": {
            "text/plain": [
              "<Figure size 432x288 with 1 Axes>"
            ],
            "image/png": "[encoded data removed]"
          },
          "metadata": {
            "needs_background": "light"
          }
        }
      ]
    },
    {
      "cell_type": "code",
      "source": [
        "loss, accuracy = model.evaluate(X_test, y_test, verbose=1)"
      ],
      "metadata": {
        "colab": {
          "base_uri": "https://localhost:8080/"
        },
        "id": "Zs3oqX_kip13",
        "outputId": "d1265a29-5442-4e56-bf9e-a37286b5447a"
      },
      "execution_count": 58,
      "outputs": [
        {
          "output_type": "stream",
          "name": "stdout",
          "text": [
            "157/157 [==============================] - 2s 13ms/step - loss: 0.4357 - accuracy: 0.8424\n"
          ]
        }
      ]
    },
    {
      "cell_type": "code",
      "source": [
        "print(\"Test: accuracy = %f  ;  loss = %f\" % (accuracy, loss))\n"
      ],
      "metadata": {
        "colab": {
          "base_uri": "https://localhost:8080/"
        },
        "id": "Z7Ih0Z2xip6N",
        "outputId": "6f890375-a1dd-4460-bf78-f85cdbfde6b6"
      },
      "execution_count": 59,
      "outputs": [
        {
          "output_type": "stream",
          "name": "stdout",
          "text": [
            "Test: accuracy = 0.842400  ;  loss = 0.435748\n"
          ]
        }
      ]
    },
    {
      "cell_type": "code",
      "source": [],
      "metadata": {
        "id": "VF425s8Mip83"
      },
      "execution_count": null,
      "outputs": []
    },
    {
      "cell_type": "code",
      "source": [],
      "metadata": {
        "id": "wpnNGeYZip_Q"
      },
      "execution_count": null,
      "outputs": []
    },
    {
      "cell_type": "code",
      "source": [],
      "metadata": {
        "id": "v_Y9dHHAgjzy"
      },
      "execution_count": null,
      "outputs": []
    }
  ]
}